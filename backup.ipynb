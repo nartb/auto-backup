{
 "cells": [
  {
   "cell_type": "markdown",
   "source": [
    "# Set backup parameters"
   ],
   "metadata": {}
  },
  {
   "cell_type": "code",
   "execution_count": null,
   "source": [
    "BACKUP_DIR_LOCATION = ''\n",
    "CHROMEDRIVER_PATH = ''\n",
    "\n",
    "BACKUPS_TO_DOWNLOAD = ['todoist', 'notion']"
   ],
   "outputs": [],
   "metadata": {}
  },
  {
   "cell_type": "markdown",
   "source": [
    "# Create directory for backup files"
   ],
   "metadata": {}
  },
  {
   "cell_type": "code",
   "execution_count": null,
   "source": [
    "import os\n",
    "import datetime\n",
    "\n",
    "# Generate directory name for backups using today's date\n",
    "today_str = datetime.datetime.today().strftime(\"%Y_%m_%d\")\n",
    "backups_dir = os.path.join(BACKUP_DIR_LOCATION, f'backup_{today_str}')\n",
    "download_dir = os.path.join(backups_dir, 'download')\n",
    "\n",
    "# Create directory\n",
    "if not os.path.isdir(backups_dir):\n",
    "    os.mkdir(backups_dir)\n",
    "\n",
    "# Create download directory inside\n",
    "if not os.path.isdir(download_dir):\n",
    "    os.mkdir(download_dir)"
   ],
   "outputs": [],
   "metadata": {}
  },
  {
   "cell_type": "markdown",
   "source": [
    "# Set up selenium driver"
   ],
   "metadata": {}
  },
  {
   "cell_type": "code",
   "execution_count": null,
   "source": [
    "from selenium.webdriver import Chrome, ChromeOptions\n",
    "\n",
    "# Set download location preferences\n",
    "driver_options = ChromeOptions()\n",
    "driver_preferences = {'download.default_directory': download_dir}\n",
    "driver_options.add_experimental_option('prefs', driver_preferences)\n",
    "\n",
    "# Create driver object\n",
    "driver = Chrome(CHROMEDRIVER_PATH, options=driver_options)"
   ],
   "outputs": [],
   "metadata": {}
  },
  {
   "cell_type": "markdown",
   "source": [
    "# Get credentials"
   ],
   "metadata": {}
  },
  {
   "cell_type": "code",
   "execution_count": null,
   "source": [
    "import json\n",
    "\n",
    "CREDENTIALS_PATH = \"credentials.json\"\n",
    "\n",
    "with open(CREDENTIALS_PATH) as credentials_file:\n",
    "    credentials = json.load(credentials_file)"
   ],
   "outputs": [],
   "metadata": {}
  },
  {
   "cell_type": "code",
   "execution_count": null,
   "source": [
    "import os\n",
    "len([f for f in os.listdir('/Users/nartbarileva/Desktop/backup_2021_08_14/download') if not f.endswith('.crdownload')])"
   ],
   "outputs": [],
   "metadata": {}
  },
  {
   "cell_type": "markdown",
   "source": [
    "# Download backups"
   ],
   "metadata": {}
  },
  {
   "cell_type": "code",
   "execution_count": null,
   "source": [
    "from helper import download_backups\n",
    "from backup_functions import BACKUP_FUNCTION_DICT\n",
    "\n",
    "download_backups(BACKUPS_TO_DOWNLOAD, backups_dir, BACKUP_FUNCTION_DICT, driver, credentials)"
   ],
   "outputs": [],
   "metadata": {}
  },
  {
   "cell_type": "markdown",
   "source": [
    "# Close driver"
   ],
   "metadata": {}
  },
  {
   "cell_type": "code",
   "execution_count": null,
   "source": [
    "driver.close()"
   ],
   "outputs": [],
   "metadata": {}
  }
 ],
 "metadata": {
  "orig_nbformat": 4,
  "language_info": {
   "name": "python",
   "version": "3.8.5",
   "mimetype": "text/x-python",
   "codemirror_mode": {
    "name": "ipython",
    "version": 3
   },
   "pygments_lexer": "ipython3",
   "nbconvert_exporter": "python",
   "file_extension": ".py"
  },
  "kernelspec": {
   "name": "python3",
   "display_name": "Python 3.8.5 64-bit ('py38': conda)"
  },
  "interpreter": {
   "hash": "7b5611a93b8f2d5e719094b77c0c70650a725e72d24d099332f318c640341dad"
  }
 },
 "nbformat": 4,
 "nbformat_minor": 2
}